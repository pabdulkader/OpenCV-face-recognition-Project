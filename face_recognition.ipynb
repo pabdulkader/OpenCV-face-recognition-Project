{
 "cells": [
  {
   "cell_type": "code",
   "execution_count": 31,
   "id": "a98393c1",
   "metadata": {},
   "outputs": [],
   "source": [
    "import numpy as np\n",
    "import pandas as pd;\n",
    "import os\n",
    "import cv2"
   ]
  },
  {
   "cell_type": "code",
   "execution_count": 32,
   "id": "76d65c08",
   "metadata": {},
   "outputs": [],
   "source": [
    "def name_map(x):\n",
    "    if x== 'sachin':\n",
    "        return 0\n",
    "    if x=='obama':\n",
    "        return 1\n",
    "    if x=='messi':\n",
    "        return 2\n"
   ]
  },
  {
   "cell_type": "code",
   "execution_count": 33,
   "id": "d1a313d2",
   "metadata": {},
   "outputs": [],
   "source": [
    "def get_name(x):\n",
    "    if x==0:\n",
    "        return 'sachin'\n",
    "    if x==1:\n",
    "        return 'obama'\n",
    "    if x==2:\n",
    "        return 'messi'"
   ]
  },
  {
   "cell_type": "code",
   "execution_count": 34,
   "id": "5d681196",
   "metadata": {},
   "outputs": [],
   "source": [
    "def detect_face(img):\n",
    "    gray = cv2.cvtColor(img, cv2.COLOR_BGR2GRAY)  # Fixed: cutColor -> cvtColor\n",
    "    face_cascade = cv2.CascadeClassifier(cv2.data.haarcascades + 'haarcascade_frontalface_default.xml')\n",
    "    if face_cascade.empty():\n",
    "        raise ValueError(\"Failed to load Haar Cascade classifier\")\n",
    "    faces = face_cascade.detectMultiScale(gray, scaleFactor=1.1, minNeighbors=5, minSize=(30, 30))  # Fixed: detecMultiScale -> detectMultiScale\n",
    "    if len(faces) == 0:\n",
    "        return None, None\n",
    "    (x, y, w, h) = faces[0]  # Take the first detected face\n",
    "    return gray[y:y+h, x:x+w], faces[0]  # Fixed: y:y+w, x:x+h -> y:y+h, x:x+w"
   ]
  },
  {
   "cell_type": "code",
   "execution_count": 35,
   "id": "b615fd4c",
   "metadata": {},
   "outputs": [],
   "source": [
    "dirs = os.listdir(r\"C:\\deepl\\face_traning\\DB\")"
   ]
  },
  {
   "cell_type": "code",
   "execution_count": 36,
   "id": "e7fc2708",
   "metadata": {},
   "outputs": [
    {
     "name": "stdout",
     "output_type": "stream",
     "text": [
      "['messi', 'obama', 'sachin']\n"
     ]
    }
   ],
   "source": [
    "print(dirs)"
   ]
  },
  {
   "cell_type": "code",
   "execution_count": 37,
   "id": "b804d438",
   "metadata": {},
   "outputs": [
    {
     "name": "stdout",
     "output_type": "stream",
     "text": [
      "C:\\deepl\\face_traning\\DB\\messi\n",
      "C:\\deepl\\face_traning\\DB\\obama\n",
      "C:\\deepl\\face_traning\\DB\\sachin\n"
     ]
    }
   ],
   "source": [
    "for dir_name in dirs:\n",
    "    subject_dir_path=r'C:\\deepl\\face_traning\\DB'+'\\\\'+dir_name\n",
    "    print(subject_dir_path)"
   ]
  },
  {
   "cell_type": "code",
   "execution_count": 38,
   "id": "b9eba0ad",
   "metadata": {},
   "outputs": [
    {
     "name": "stdout",
     "output_type": "stream",
     "text": [
      "['01.jpg', '02.jpg', '03.jpg', '04.jpg', '05.jpg', '06.jpg', '07.jpg', '08.jpg', '09.jpg', '10.jpg']\n"
     ]
    }
   ],
   "source": [
    "subject_img_name=os.listdir(subject_dir_path)\n",
    "print(subject_img_name)\n"
   ]
  },
  {
   "cell_type": "code",
   "execution_count": 39,
   "id": "1a9e25dc",
   "metadata": {},
   "outputs": [
    {
     "name": "stdout",
     "output_type": "stream",
     "text": [
      "C:\\deepl\\face_traning\\DB\\sachin\\01.jpg\n",
      "C:\\deepl\\face_traning\\DB\\sachin\\02.jpg\n",
      "C:\\deepl\\face_traning\\DB\\sachin\\03.jpg\n",
      "C:\\deepl\\face_traning\\DB\\sachin\\04.jpg\n",
      "C:\\deepl\\face_traning\\DB\\sachin\\05.jpg\n",
      "C:\\deepl\\face_traning\\DB\\sachin\\06.jpg\n",
      "C:\\deepl\\face_traning\\DB\\sachin\\07.jpg\n",
      "C:\\deepl\\face_traning\\DB\\sachin\\08.jpg\n",
      "C:\\deepl\\face_traning\\DB\\sachin\\09.jpg\n",
      "C:\\deepl\\face_traning\\DB\\sachin\\10.jpg\n"
     ]
    }
   ],
   "source": [
    "for img_name in subject_img_name:\n",
    "    img_path=subject_dir_path +'\\\\'+img_name\n",
    "    print(img_path)"
   ]
  },
  {
   "cell_type": "code",
   "execution_count": null,
   "id": "4a532073",
   "metadata": {},
   "outputs": [],
   "source": []
  },
  {
   "cell_type": "code",
   "execution_count": null,
   "id": "b43ca3e8",
   "metadata": {},
   "outputs": [],
   "source": []
  },
  {
   "cell_type": "code",
   "execution_count": 40,
   "id": "c24d4b52",
   "metadata": {},
   "outputs": [
    {
     "name": "stdout",
     "output_type": "stream",
     "text": [
      "C:\\deepl\\face_traning\\DB\\messi\\01.jpg\n",
      "C:\\deepl\\face_traning\\DB\\messi\\02.jpg\n",
      "C:\\deepl\\face_traning\\DB\\messi\\03.jpg\n",
      "C:\\deepl\\face_traning\\DB\\messi\\04.jpg\n",
      "C:\\deepl\\face_traning\\DB\\messi\\05.jpg\n",
      "C:\\deepl\\face_traning\\DB\\messi\\06.jpg\n",
      "C:\\deepl\\face_traning\\DB\\messi\\07.jpg\n",
      "C:\\deepl\\face_traning\\DB\\messi\\08.jpg\n",
      "C:\\deepl\\face_traning\\DB\\messi\\09.jpg\n",
      "C:\\deepl\\face_traning\\DB\\messi\\10.jpg\n",
      "C:\\deepl\\face_traning\\DB\\obama\\01.jpg\n",
      "C:\\deepl\\face_traning\\DB\\obama\\02.jpg\n",
      "C:\\deepl\\face_traning\\DB\\obama\\03.jpg\n",
      "C:\\deepl\\face_traning\\DB\\obama\\04.jpg\n",
      "C:\\deepl\\face_traning\\DB\\obama\\05.jpg\n",
      "C:\\deepl\\face_traning\\DB\\obama\\06.jpg\n",
      "C:\\deepl\\face_traning\\DB\\obama\\07.jpg\n",
      "C:\\deepl\\face_traning\\DB\\obama\\08.jpg\n",
      "C:\\deepl\\face_traning\\DB\\obama\\09.jpg\n",
      "C:\\deepl\\face_traning\\DB\\obama\\10.jpg\n",
      "C:\\deepl\\face_traning\\DB\\sachin\\01.jpg\n",
      "C:\\deepl\\face_traning\\DB\\sachin\\02.jpg\n",
      "C:\\deepl\\face_traning\\DB\\sachin\\03.jpg\n",
      "C:\\deepl\\face_traning\\DB\\sachin\\04.jpg\n",
      "C:\\deepl\\face_traning\\DB\\sachin\\05.jpg\n",
      "C:\\deepl\\face_traning\\DB\\sachin\\06.jpg\n",
      "C:\\deepl\\face_traning\\DB\\sachin\\07.jpg\n",
      "C:\\deepl\\face_traning\\DB\\sachin\\08.jpg\n",
      "C:\\deepl\\face_traning\\DB\\sachin\\09.jpg\n",
      "C:\\deepl\\face_traning\\DB\\sachin\\10.jpg\n"
     ]
    }
   ],
   "source": [
    "for dir_name in dirs:\n",
    "    subject_dir_path=r'C:\\deepl\\face_traning\\DB' + '\\\\' + dir_name \n",
    "    subject_img_names=os.listdir(subject_dir_path)\n",
    "    for img_name in subject_img_name:\n",
    "        img_path=subject_dir_path + '\\\\' + img_name\n",
    "        print(img_path)"
   ]
  },
  {
   "cell_type": "code",
   "execution_count": 41,
   "id": "d32ebd6f",
   "metadata": {},
   "outputs": [],
   "source": [
    "def prepare_training_data(data_folder_path):\n",
    "    dirs=os.listdir(data_folder_path)\n",
    "\n",
    "\n",
    "    faces=[]\n",
    "    labels=[]\n",
    "    for dir_name in dirs:\n",
    "        label=dir_name\n",
    "\n",
    "        subject_dir_path=data_folder_path + '/' + dir_name\n",
    "\n",
    "        subject_img_names=os.listdir(subject_dir_path)\n",
    "\n",
    "        for img_name in subject_img_names:\n",
    "\n",
    "            img_path=subject_dir_path + '/' + img_name\n",
    "\n",
    "            image = cv2.imread(img_path)\n",
    "\n",
    "\n",
    "            \n",
    "\n",
    "            cv2.imshow('training images...',image)\n",
    "            cv2.waitKey(1000)\n",
    "\n",
    "\n",
    "            #detecting facecv2.de\n",
    "            face,rect=detect_face(image)\n",
    "            if face is not None:\n",
    "                faces.append(face)\n",
    "                labels.append(name_map(label))\n",
    "                print(labels)\n",
    "                \n",
    "    cv2.destroyAllWindows()\n",
    "    cv2.waitKey(1)\n",
    "    return faces,labels"
   ]
  },
  {
   "cell_type": "code",
   "execution_count": 42,
   "id": "da2dc71c",
   "metadata": {},
   "outputs": [
    {
     "name": "stdout",
     "output_type": "stream",
     "text": [
      "Preparing data...\n",
      "[2]\n",
      "[2, 2]\n",
      "[2, 2, 2]\n",
      "[2, 2, 2, 2]\n",
      "[2, 2, 2, 2, 2]\n",
      "[2, 2, 2, 2, 2, 2]\n",
      "[2, 2, 2, 2, 2, 2, 2]\n",
      "[2, 2, 2, 2, 2, 2, 2, 2]\n",
      "[2, 2, 2, 2, 2, 2, 2, 2, 2]\n",
      "[2, 2, 2, 2, 2, 2, 2, 2, 2, 2]\n",
      "[2, 2, 2, 2, 2, 2, 2, 2, 2, 2, 1]\n",
      "[2, 2, 2, 2, 2, 2, 2, 2, 2, 2, 1, 1]\n",
      "[2, 2, 2, 2, 2, 2, 2, 2, 2, 2, 1, 1, 1]\n",
      "[2, 2, 2, 2, 2, 2, 2, 2, 2, 2, 1, 1, 1, 1]\n",
      "[2, 2, 2, 2, 2, 2, 2, 2, 2, 2, 1, 1, 1, 1, 1]\n",
      "[2, 2, 2, 2, 2, 2, 2, 2, 2, 2, 1, 1, 1, 1, 1, 1]\n",
      "[2, 2, 2, 2, 2, 2, 2, 2, 2, 2, 1, 1, 1, 1, 1, 1, 1]\n",
      "[2, 2, 2, 2, 2, 2, 2, 2, 2, 2, 1, 1, 1, 1, 1, 1, 1, 1]\n",
      "[2, 2, 2, 2, 2, 2, 2, 2, 2, 2, 1, 1, 1, 1, 1, 1, 1, 1, 1]\n",
      "[2, 2, 2, 2, 2, 2, 2, 2, 2, 2, 1, 1, 1, 1, 1, 1, 1, 1, 1, 1]\n",
      "[2, 2, 2, 2, 2, 2, 2, 2, 2, 2, 1, 1, 1, 1, 1, 1, 1, 1, 1, 1, 0]\n",
      "[2, 2, 2, 2, 2, 2, 2, 2, 2, 2, 1, 1, 1, 1, 1, 1, 1, 1, 1, 1, 0, 0]\n",
      "[2, 2, 2, 2, 2, 2, 2, 2, 2, 2, 1, 1, 1, 1, 1, 1, 1, 1, 1, 1, 0, 0, 0]\n",
      "[2, 2, 2, 2, 2, 2, 2, 2, 2, 2, 1, 1, 1, 1, 1, 1, 1, 1, 1, 1, 0, 0, 0, 0]\n",
      "[2, 2, 2, 2, 2, 2, 2, 2, 2, 2, 1, 1, 1, 1, 1, 1, 1, 1, 1, 1, 0, 0, 0, 0, 0]\n",
      "[2, 2, 2, 2, 2, 2, 2, 2, 2, 2, 1, 1, 1, 1, 1, 1, 1, 1, 1, 1, 0, 0, 0, 0, 0, 0]\n",
      "[2, 2, 2, 2, 2, 2, 2, 2, 2, 2, 1, 1, 1, 1, 1, 1, 1, 1, 1, 1, 0, 0, 0, 0, 0, 0, 0]\n",
      "[2, 2, 2, 2, 2, 2, 2, 2, 2, 2, 1, 1, 1, 1, 1, 1, 1, 1, 1, 1, 0, 0, 0, 0, 0, 0, 0, 0]\n",
      "Data prepared\n"
     ]
    }
   ],
   "source": [
    "print('Preparing data...')\n",
    "faces,labels = prepare_training_data(r'C:\\deepl\\face_traning\\DB')\n",
    "print(\"Data prepared\")"
   ]
  },
  {
   "cell_type": "code",
   "execution_count": 43,
   "id": "100502b6",
   "metadata": {},
   "outputs": [
    {
     "name": "stdout",
     "output_type": "stream",
     "text": [
      "total detected face 28\n"
     ]
    }
   ],
   "source": [
    "print('total detected face',len(faces))"
   ]
  },
  {
   "cell_type": "code",
   "execution_count": 44,
   "id": "c8deb23a",
   "metadata": {},
   "outputs": [
    {
     "name": "stdout",
     "output_type": "stream",
     "text": [
      "total detected labels 28\n"
     ]
    }
   ],
   "source": [
    "print('total detected labels',len(labels))"
   ]
  },
  {
   "cell_type": "code",
   "execution_count": 45,
   "id": "bf1f21db",
   "metadata": {},
   "outputs": [
    {
     "ename": "AttributeError",
     "evalue": "module 'cv2' has no attribute 'LBPHFaceRecognizer_create'",
     "output_type": "error",
     "traceback": [
      "\u001b[31m---------------------------------------------------------------------------\u001b[39m",
      "\u001b[31mAttributeError\u001b[39m                            Traceback (most recent call last)",
      "\u001b[36mCell\u001b[39m\u001b[36m \u001b[39m\u001b[32mIn[45]\u001b[39m\u001b[32m, line 1\u001b[39m\n\u001b[32m----> \u001b[39m\u001b[32m1\u001b[39m face_recognizer = \u001b[43mcv2\u001b[49m\u001b[43m.\u001b[49m\u001b[43mLBPHFaceRecognizer_create\u001b[49m()\n",
      "\u001b[31mAttributeError\u001b[39m: module 'cv2' has no attribute 'LBPHFaceRecognizer_create'"
     ]
    }
   ],
   "source": [
    "face_recognizer = cv2.LBPHFaceRecognizer_create()"
   ]
  },
  {
   "cell_type": "code",
   "execution_count": null,
   "id": "63767f49",
   "metadata": {},
   "outputs": [
    {
     "name": "stdout",
     "output_type": "stream",
     "text": [
      "4.11.0\n"
     ]
    }
   ],
   "source": [
    "print(cv2.__version__)"
   ]
  },
  {
   "cell_type": "code",
   "execution_count": null,
   "id": "d85986f2",
   "metadata": {},
   "outputs": [
    {
     "ename": "NameError",
     "evalue": "name 'face_recognizer' is not defined",
     "output_type": "error",
     "traceback": [
      "\u001b[31m---------------------------------------------------------------------------\u001b[39m",
      "\u001b[31mNameError\u001b[39m                                 Traceback (most recent call last)",
      "\u001b[36mCell\u001b[39m\u001b[36m \u001b[39m\u001b[32mIn[256]\u001b[39m\u001b[32m, line 1\u001b[39m\n\u001b[32m----> \u001b[39m\u001b[32m1\u001b[39m \u001b[43mface_recognizer\u001b[49m.train(faces,np.array(labels))\n",
      "\u001b[31mNameError\u001b[39m: name 'face_recognizer' is not defined"
     ]
    }
   ],
   "source": [
    "face_recognizer.train(faces,np.array(labels))\n"
   ]
  },
  {
   "cell_type": "code",
   "execution_count": null,
   "id": "7bf80808",
   "metadata": {},
   "outputs": [],
   "source": [
    "def draw_rectangle(img,rect):\n",
    "    (x,y,w,h)=rect\n",
    "    cv2.rectangle(img,pt1=(x,y),pt2=(x+w,y+h),color=(0,255,0),thickness=2)\n",
    "    "
   ]
  },
  {
   "cell_type": "code",
   "execution_count": null,
   "id": "28f5cb38",
   "metadata": {},
   "outputs": [],
   "source": [
    "def draw_text(img,text,x,y):\n",
    "    cv2.putText(img,text,(x,y),cv2.FONT_HERSHEY_COMPLEX,1,(0,255,0),2)"
   ]
  },
  {
   "cell_type": "code",
   "execution_count": null,
   "id": "883afba8",
   "metadata": {},
   "outputs": [],
   "source": [
    "def predict(test_img):\n",
    "    \n",
    "    img=test_img.copy()\n",
    "    \n",
    "    #detect face\n",
    "    face,rect=detect_face(img)\n",
    "    \n",
    "    #predict\n",
    "    label=face_recognizer.predict(face)\n",
    "    \n",
    "    #find name\n",
    "    lable_text=get_name(label[0])\n",
    "    \n",
    "    #rect,text\n",
    "    draw_rectangle(img,rect)\n",
    "    draw_text(img,lable_text,rect[0],rect[1])\n",
    "    \n",
    "    return img"
   ]
  },
  {
   "cell_type": "code",
   "execution_count": null,
   "id": "5b1a15da",
   "metadata": {},
   "outputs": [],
   "source": [
    "test_img1=cv2.imread(r'')"
   ]
  },
  {
   "cell_type": "code",
   "execution_count": null,
   "id": "df8c7bf1",
   "metadata": {},
   "outputs": [
    {
     "ename": "AttributeError",
     "evalue": "'NoneType' object has no attribute 'copy'",
     "output_type": "error",
     "traceback": [
      "\u001b[31m---------------------------------------------------------------------------\u001b[39m",
      "\u001b[31mAttributeError\u001b[39m                            Traceback (most recent call last)",
      "\u001b[36mCell\u001b[39m\u001b[36m \u001b[39m\u001b[32mIn[261]\u001b[39m\u001b[32m, line 1\u001b[39m\n\u001b[32m----> \u001b[39m\u001b[32m1\u001b[39m predicted=\u001b[43mpredict\u001b[49m\u001b[43m(\u001b[49m\u001b[43mtest_img1\u001b[49m\u001b[43m)\u001b[49m\n\u001b[32m      2\u001b[39m cv2.imshow(\u001b[33m'\u001b[39m\u001b[33mpredicted image\u001b[39m\u001b[33m'\u001b[39m,predicted)\n",
      "\u001b[36mCell\u001b[39m\u001b[36m \u001b[39m\u001b[32mIn[259]\u001b[39m\u001b[32m, line 3\u001b[39m, in \u001b[36mpredict\u001b[39m\u001b[34m(test_img)\u001b[39m\n\u001b[32m      1\u001b[39m \u001b[38;5;28;01mdef\u001b[39;00m\u001b[38;5;250m \u001b[39m\u001b[34mpredict\u001b[39m(test_img):\n\u001b[32m----> \u001b[39m\u001b[32m3\u001b[39m     img=\u001b[43mtest_img\u001b[49m\u001b[43m.\u001b[49m\u001b[43mcopy\u001b[49m()\n\u001b[32m      5\u001b[39m     \u001b[38;5;66;03m#detect face\u001b[39;00m\n\u001b[32m      6\u001b[39m     face,rect=detect_face(img)\n",
      "\u001b[31mAttributeError\u001b[39m: 'NoneType' object has no attribute 'copy'"
     ]
    }
   ],
   "source": [
    "predicted=predict(test_img1)\n",
    "cv2.imshow('predicted image',predicted)"
   ]
  }
 ],
 "metadata": {
  "kernelspec": {
   "display_name": "Python 3",
   "language": "python",
   "name": "python3"
  },
  "language_info": {
   "codemirror_mode": {
    "name": "ipython",
    "version": 3
   },
   "file_extension": ".py",
   "mimetype": "text/x-python",
   "name": "python",
   "nbconvert_exporter": "python",
   "pygments_lexer": "ipython3",
   "version": "3.13.3"
  }
 },
 "nbformat": 4,
 "nbformat_minor": 5
}
